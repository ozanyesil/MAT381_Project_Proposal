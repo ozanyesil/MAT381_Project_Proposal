{
 "cells": [
  {
   "cell_type": "markdown",
   "metadata": {},
   "source": [
    "# Final Project Title\n",
    "\n",
    "## Team Members\n",
    "\n",
    "1. Engin Pehlivan (Full name and Student Number)\n",
    "2. Ozan Yeşil 090190325\n",
    "3. Alp Doğan Fidan  \n",
    "\n",
    "## Dataset\n",
    "\n",
    "Our dataset is taken from Kaggle (a Kaggle contributer Alin Secereanu):\n",
    "[Dataset](https://www.kaggle.com/datasets/secareanualin/football-events?select=events.csv)  \n",
    "It contains an explanatory text file and a csv file which we will be using to analyze.  \n",
    "\n",
    "This dataset is basically an event data. It contains 9,074 football matches and more than 900,000 events that occured in the top 5 European football leagues (England, Spain, Italy, Germany and France) between the beginning of 2011/2012 season and 25.01.2017 which is longer than 5 years.\n",
    "\n",
    "It gives the information about matches, events that happened in the match (events are represented by numbers and the meaning of numbers are explained in the text file) and depending on the event there are more detailed data about that event. For example, if the event is shooting then, in the other columns there are informations about location of the shot, the outcome of the shot \n",
    "(goal or not), the player who did it etc.\n",
    "\n",
    "\n",
    "\n",
    "## Description of the Problem\n",
    "\n",
    "With tha data we have we want to dive deeper about expected goal statistic that is not very well-known and understood by fans. Our main purpose will be to create an expected goal model according to data we have. Also, we want to support our calculations with visualizations such as shot distance maps, advantage of playing at home, distributions of goals by minutes. Red and yellow card statistics depending on  the league.  \n",
    "\n",
    "At the end of the project we will be answered these questions:\n",
    "* Is playing at home is really advantageous?\n",
    "* What is expected goal(xG)?\n",
    "* Does it help teams to win matches if they have more xG than opponent? \n",
    "* Is xG an accurate metric to understand the game?\n",
    "* Which league has the highest xG per match among these 5 leagues?\n",
    "\n",
    "In addition, this data is interesting because it is very detailed and it records events in a football match. It shows the improvement in data tracking in sports industry. Also, it is good for finding answers to questions ,that comes our minds as footbal fans, supported by real data. \n",
    "\n",
    "## Project Planning\n",
    "\n",
    "\n",
    "### Project Pieces\n",
    "\n",
    "You need to split the project into managible work loads even if you are going to do this on your own. If there are team members, you need to have a division of labour. For example, you may have things like Literature Review, Data Acquisition and Cleaning, Model Construction, Visualization, Analysis etc.\n",
    "\n",
    "**Literature Review:** In order to understand the expected goal calculation and the logic behind it.  \n",
    "**Data Cleaning:** Gathering data and splitting it to do visualizations easier. For example, grouping leagues and evaluating them seperately, changing column names to work more comfortable. Also, we will check if there are missing values.  \n",
    "**Visualization:** Visualizing things we planned.  \n",
    "**Model:** Modelling for xG.  \n",
    "**Analysis:** After all visualizations and modelling, we will evaluate our models and graphics to answer our questions.\n",
    "\n",
    "### Hardware and Software\n",
    "\n",
    "We will use Python programming language and its libraries and Jupyter Notebook environment. We will be doing this project on our laptops.\n",
    "\n",
    "### Calendar\n",
    "\n",
    "* Literature review: 1 week\n",
    "* Cleaning the data: 1 week \n",
    "* Visualization: 10-14 days\n",
    "* Modelling = 2 weeks\n",
    "* Final Analysis = 10 days\n",
    "\n",
    "**Literature review will not be done seperately, it will be synchronized with other steps.**"
   ]
  },
  {
   "cell_type": "code",
   "execution_count": null,
   "metadata": {},
   "outputs": [],
   "source": []
  }
 ],
 "metadata": {
  "kernelspec": {
   "display_name": "Python 3",
   "language": "python",
   "name": "python3"
  },
  "language_info": {
   "codemirror_mode": {
    "name": "ipython",
    "version": 3
   },
   "file_extension": ".py",
   "mimetype": "text/x-python",
   "name": "python",
   "nbconvert_exporter": "python",
   "pygments_lexer": "ipython3",
   "version": "3.8.5"
  }
 },
 "nbformat": 4,
 "nbformat_minor": 5
}
